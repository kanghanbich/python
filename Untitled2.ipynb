{
 "cells": [
  {
   "cell_type": "code",
   "execution_count": 6,
   "metadata": {},
   "outputs": [
    {
     "ename": "SyntaxError",
     "evalue": "invalid syntax (<ipython-input-6-ccb4a22c19a7>, line 4)",
     "output_type": "error",
     "traceback": [
      "\u001b[0;36m  File \u001b[0;32m\"<ipython-input-6-ccb4a22c19a7>\"\u001b[0;36m, line \u001b[0;32m4\u001b[0m\n\u001b[0;31m    Mat img = imread(\"image1.jpg\");\u001b[0m\n\u001b[0m          ^\u001b[0m\n\u001b[0;31mSyntaxError\u001b[0m\u001b[0;31m:\u001b[0m invalid syntax\n"
     ]
    }
   ],
   "source": [
    "import numpy as np\n",
    "import cv2 as cv\n",
    "\n",
    "Mat img = imread(\"image1.jpg\");\n",
    "Mat grey;\n",
    "cvtColor(img, grey, CV_BGR2GRAY);\n",
    "\n",
    "Mat sobelx;\n",
    "Sobel(grey, sobelx, CV_32F, 1, 0);\n",
    "\n",
    "double minVal, maxVal;\n",
    "minMaxLoc(sobelx, &minVal, &maxVal); //find minimum and maximum intensities\n",
    "Mat draw;\n",
    "sobelx.convertTo(draw, CV_8U, 255.0/(maxVal - minVal), -minVal * 255.0/(maxVal - minVal));\n",
    "\n",
    "namedWindow(\"image\", CV_WINDOW_AUTOSIZE);\n",
    "imshow(\"image\", draw);\n",
    "waitKey();"
   ]
  },
  {
   "cell_type": "code",
   "execution_count": null,
   "metadata": {},
   "outputs": [],
   "source": []
  }
 ],
 "metadata": {
  "kernelspec": {
   "display_name": "Python 2",
   "language": "python",
   "name": "python2"
  },
  "language_info": {
   "codemirror_mode": {
    "name": "ipython",
    "version": 2
   },
   "file_extension": ".py",
   "mimetype": "text/x-python",
   "name": "python",
   "nbconvert_exporter": "python",
   "pygments_lexer": "ipython2",
   "version": "2.7.12"
  }
 },
 "nbformat": 4,
 "nbformat_minor": 2
}
